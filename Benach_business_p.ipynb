{
 "cells": [
  {
   "cell_type": "code",
   "execution_count": 1,
   "metadata": {},
   "outputs": [],
   "source": [
    "import numpy as np\n",
    "import pandas as pd\n",
    "import os\n",
    "import glob\n"
   ]
  },
  {
   "cell_type": "code",
   "execution_count": 2,
   "metadata": {},
   "outputs": [],
   "source": [
    "# load and name each file by its file name in folder (without extension)\n",
    "path = 'files/'\n",
    "var_list = []\n",
    "countries = []\n",
    "\n",
    "for f in glob.glob(os.path.join(path, '*.csv')):\n",
    "    variable_name = os.path.splitext(os.path.basename(f))[0]\n",
    "    var_list.append(variable_name)\n",
    "    globals()[variable_name] = pd.read_csv(f, parse_dates=['TIME'],index_col='TIME') # load all files separately, parse date column 'TIME' as index of datetime\n",
    "    globals()[variable_name] = globals()[variable_name][~(globals()[variable_name].index < '1980-01-01')]\n",
    "    # create a list containing all countries from all files\n",
    "    for country in globals()[variable_name].LOCATION:\n",
    "        countries.append(country)\n",
    "        countries = list(dict.fromkeys(countries))\n",
    "    \n",
    "\n"
   ]
  },
  {
   "cell_type": "code",
   "execution_count": 3,
   "metadata": {},
   "outputs": [],
   "source": [
    "# change time formatting\n",
    "for var in var_list:\n",
    "    if var[-1] == 'M':\n",
    "        globals()[var].index = globals()[var].index.strftime(\"%Y-%m\")\n",
    "    else:\n",
    "        globals()[var].index = globals()[var].index.to_period('D').strftime('%YQ%q')\n",
    "\n",
    "        "
   ]
  },
  {
   "cell_type": "code",
   "execution_count": 4,
   "metadata": {},
   "outputs": [],
   "source": [
    "# save formal variable description to use as main sheet name\n",
    "variable_description = {}\n",
    "\n",
    "for var in var_list:    \n",
    "    variable_description[var] = str(globals()[var].iloc[0][1] + ' ' + globals()[var].iloc[0][2] + ' ' + globals()[var].iloc[0][3])"
   ]
  },
  {
   "cell_type": "code",
   "execution_count": 5,
   "metadata": {},
   "outputs": [],
   "source": [
    "# transform with pivot and complete missing countries\n",
    "for var in var_list:\n",
    "    # pivot wider, columns=LOCATION, values=Value\n",
    "    globals()[var] = globals()[var].pivot(columns='LOCATION', values='Value')\n",
    "    # add missing countries to all variables\n",
    "    for country in countries:\n",
    "        if country in globals()[var].columns:\n",
    "            continue\n",
    "        else:\n",
    "            globals()[var][country] = np.nan\n",
    "    globals()[var] = globals()[var].reindex(sorted(globals()[var].columns), axis=1)\n",
    "\n"
   ]
  },
  {
   "cell_type": "code",
   "execution_count": 6,
   "metadata": {},
   "outputs": [],
   "source": [
    "# create a dictionary with info about each variable - start date and end date\n",
    "first_last_date = {}\n",
    "\n",
    "for var in var_list:\n",
    "    first_last_date[var] = {'index':['first', 'last', 'in between']}\n",
    "    for country in countries:\n",
    "        if globals()[var][country].sum() != 0:\n",
    "            try:\n",
    "                ind = globals()[var][country][globals()[var][country].first_valid_index():globals()[var][country].last_valid_index()].isna()\n",
    "                ind.drop(ind[ind==False].index, inplace=True)\n",
    "                ind = ind.index\n",
    "                ind = list(ind)\n",
    "                ind = ','.join(ind)\n",
    "                first_last_date[var][country] = [globals()[var][country].first_valid_index(), globals()[var][country].last_valid_index(), ind]\n",
    "            except:\n",
    "                continue\n",
    "        else:\n",
    "            first_last_date[var][country] = ['missing', 'missing', 'missing']  "
   ]
  },
  {
   "cell_type": "code",
   "execution_count": 7,
   "metadata": {},
   "outputs": [],
   "source": [
    "for var in var_list:\n",
    "    path = \"%s.xlsx\" % var\n",
    "    main_sheet = variable_description[var]\n",
    "    with pd.ExcelWriter(path) as writer:\n",
    "        globals()[var].to_excel(writer, sheet_name=variable_description[var], index=True)\n",
    "        first_last = pd.DataFrame.from_dict(first_last_date[var], orient='columns')\n",
    "        first_last = first_last.reindex(sorted(first_last.columns), axis=1)\n",
    "        first_last = first_last.T\n",
    "        first_last.columns = first_last.iloc[np.where(first_last[0] == 'first')[0][0]]\n",
    "        first_last = first_last.drop(first_last.index[-1])        \n",
    "        first_last.to_excel(writer, sheet_name=\"first_last\", index=True)\n",
    "    "
   ]
  }
 ],
 "metadata": {
  "kernelspec": {
   "display_name": "Python 3",
   "language": "python",
   "name": "python3"
  },
  "language_info": {
   "codemirror_mode": {
    "name": "ipython",
    "version": 3
   },
   "file_extension": ".py",
   "mimetype": "text/x-python",
   "name": "python",
   "nbconvert_exporter": "python",
   "pygments_lexer": "ipython3",
   "version": "3.11.2"
  },
  "orig_nbformat": 4
 },
 "nbformat": 4,
 "nbformat_minor": 2
}
