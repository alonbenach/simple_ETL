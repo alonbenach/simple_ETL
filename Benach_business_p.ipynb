{
 "cells": [
  {
   "cell_type": "code",
   "execution_count": 1,
   "metadata": {},
   "outputs": [],
   "source": [
    "import numpy as np\n",
    "import pandas as pd\n",
    "import os\n",
    "import glob\n"
   ]
  },
  {
   "cell_type": "code",
   "execution_count": 2,
   "metadata": {},
   "outputs": [
    {
     "name": "stdout",
     "output_type": "stream",
     "text": [
      "CPI_M\n",
      "From 1979-09-01 00:00:00 until 2023-05-01 00:00:00\n",
      "CPI_Q\n",
      "From 1979-10-01 00:00:00 until 2023-01-01 00:00:00\n",
      "GDP_Q_PC_CHG_PP\n",
      "From 1980-01-01 00:00:00 until 2023-01-01 00:00:00\n",
      "GDP_Q_PC_CHG_PY\n",
      "From 1980-01-01 00:00:00 until 2023-01-01 00:00:00\n",
      "IPI_M\n",
      "From 1979-12-01 00:00:00 until 2023-03-01 00:00:00\n",
      "IPI_Q\n",
      "From 1980-01-01 00:00:00 until 2023-01-01 00:00:00\n",
      "LongTerm_M\n",
      "From 1980-01-01 00:00:00 until 2023-05-01 00:00:00\n",
      "LongTerm_Q\n",
      "From 1979-10-01 00:00:00 until 2023-01-01 00:00:00\n",
      "ShortTerm_M\n",
      "From 1997-07-01 00:00:00 until 2023-05-01 00:00:00\n",
      "ShortTerm_Q\n",
      "From 1999-07-01 00:00:00 until 2023-01-01 00:00:00\n"
     ]
    }
   ],
   "source": [
    "# load and name each file by its file name in folder (without extension)\n",
    "path = 'files/'\n",
    "var_list = []\n",
    "countries = []\n",
    "\n",
    "for f in glob.glob(os.path.join(path, '*.csv')):\n",
    "    variable_name = os.path.splitext(os.path.basename(f))[0]\n",
    "    var_list.append(variable_name)\n",
    "    globals()[variable_name] = pd.read_csv(f, parse_dates=['TIME'],index_col='TIME') # load all files separately, parse date column 'TIME' as index of datetime\n",
    "    print(f'''{variable_name}\n",
    "From {globals()[variable_name].index[0]} until {globals()[variable_name].index[-1]}''') # Check dates to ensure final df includes all indecies\n",
    "    # create a list containing all countries from all files\n",
    "    for country in globals()[variable_name].LOCATION:\n",
    "        countries.append(country)\n",
    "        countries = list(dict.fromkeys(countries))\n",
    "    \n",
    "\n"
   ]
  },
  {
   "cell_type": "code",
   "execution_count": 3,
   "metadata": {},
   "outputs": [],
   "source": [
    "# save formal variable description to use as main sheet name\n",
    "variable_description = {}\n",
    "\n",
    "for var in var_list:    \n",
    "    variable_description[var] = str(globals()[var].iloc[0][1] + ' ' + globals()[var].iloc[0][2] + ' ' + globals()[var].iloc[0][3])"
   ]
  },
  {
   "cell_type": "code",
   "execution_count": 4,
   "metadata": {},
   "outputs": [
    {
     "data": {
      "text/plain": [
       "'CPI TOT IDX2015'"
      ]
     },
     "execution_count": 4,
     "metadata": {},
     "output_type": "execute_result"
    }
   ],
   "source": [
    "variable_description['CPI_M']"
   ]
  },
  {
   "cell_type": "code",
   "execution_count": 5,
   "metadata": {},
   "outputs": [],
   "source": [
    "# transform with pivot and complete missing countries\n",
    "for var in var_list:\n",
    "    # pivot wider, columns=LOCATION, values=Value\n",
    "    globals()[var] = globals()[var].pivot(columns='LOCATION', values='Value')\n",
    "    # add missing countries to all variables\n",
    "    for country in countries:\n",
    "        if country in globals()[var].columns:\n",
    "            continue\n",
    "        else:\n",
    "            globals()[var][country] = np.nan\n"
   ]
  },
  {
   "cell_type": "code",
   "execution_count": 6,
   "metadata": {},
   "outputs": [],
   "source": [
    "# create dictionary of all missing dates for each country in each variable\n",
    "all_missing_dates = {}\n",
    "\n",
    "for var in var_list:\n",
    "    all_missing_dates[var] = {}\n",
    "    for country in countries:\n",
    "        all_missing_dates[var][country] = globals()[var][country][globals()[var][country].isna()].index.tolist()"
   ]
  },
  {
   "cell_type": "code",
   "execution_count": 34,
   "metadata": {},
   "outputs": [],
   "source": [
    "# create a dictionary with info about each variable - start date and end date\n",
    "first_last_date = {}\n",
    "\n",
    "for var in var_list:\n",
    "    first_last_date[var] = {'index':['first', 'last']}\n",
    "    for country in countries:\n",
    "        first_last_date[var][country] = [globals()[var][country].first_valid_index(), globals()[var][country].last_valid_index()]        "
   ]
  },
  {
   "cell_type": "code",
   "execution_count": 48,
   "metadata": {},
   "outputs": [],
   "source": [
    "for var in var_list:\n",
    "    path = \"%s.xlsx\" % var\n",
    "    main_sheet = variable_description[var]\n",
    "    with pd.ExcelWriter(path) as writer:\n",
    "        CPI_M.to_excel(writer, sheet_name=main_sheet, index=True)\n",
    "        pd.DataFrame.from_dict(first_last_date['CPI_M'], orient='columns').to_excel(writer, sheet_name=\"first_last\", index=True)\n",
    "        pd.DataFrame.from_dict(all_missing_dates['CPI_M'], orient='index').to_excel(writer, sheet_name=\"all_missing\", index=True)\n",
    "    "
   ]
  }
 ],
 "metadata": {
  "kernelspec": {
   "display_name": "Python 3",
   "language": "python",
   "name": "python3"
  },
  "language_info": {
   "codemirror_mode": {
    "name": "ipython",
    "version": 3
   },
   "file_extension": ".py",
   "mimetype": "text/x-python",
   "name": "python",
   "nbconvert_exporter": "python",
   "pygments_lexer": "ipython3",
   "version": "3.11.2"
  },
  "orig_nbformat": 4
 },
 "nbformat": 4,
 "nbformat_minor": 2
}
